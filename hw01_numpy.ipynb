{
  "cells": [
    {
      "cell_type": "markdown",
      "source": [
        "**Шеронов Данил (ИАД-2)**"
      ],
      "metadata": {
        "id": "xO8THhoTgLz3"
      }
    },
    {
      "cell_type": "markdown",
      "metadata": {
        "id": "uL0vFFLXgpb5"
      },
      "source": [
        "## Домашнее задание 1 (5 баллов)\n",
        "\n",
        "Все задания ниже имеют равный вес (5/10)."
      ]
    },
    {
      "cell_type": "markdown",
      "metadata": {
        "id": "ey3iqeFygpb9"
      },
      "source": [
        "### О задании\n",
        "\n",
        "В этом домашнем задании вы попрактикуетесь в работе с библиотекой numpy, которая позволяет сравнительно легко и удобно выполнять разнообразные вычисления, избегая самостоятельной реализации поэлементной обработки."
      ]
    },
    {
      "cell_type": "markdown",
      "metadata": {
        "id": "VxQ6birQgpb-"
      },
      "source": [
        "Во всех задачах необходимо написать код решения внутри функции и убедиться, что она работает, с помощью [assert](https://python-reference.readthedocs.io/en/latest/docs/statements/assert.html) на выражение с использованием этой функции для данных из условия.\n",
        "\n",
        "При решении задач запрещается использовать циклы (`for`, `while`) и оператор `if`.\n",
        "\n",
        "Везде, где встречаются массивы или матрицы, подразумевается, что это `numpy.array`.\n",
        "\n",
        "**numpy reference:** https://numpy.org/doc/stable/reference/index.html"
      ]
    },
    {
      "cell_type": "code",
      "execution_count": 26,
      "metadata": {
        "pycharm": {
          "name": "#%%\n"
        },
        "id": "IWEcUMdlgpb-"
      },
      "outputs": [],
      "source": [
        "import numpy as np"
      ]
    },
    {
      "cell_type": "markdown",
      "metadata": {
        "id": "cGn12DaRgpb_"
      },
      "source": [
        "### Задание 1"
      ]
    },
    {
      "cell_type": "markdown",
      "metadata": {
        "id": "XSH9T-XlgpcA"
      },
      "source": [
        "Напишите функцию, возвращающую округленную взвешенную сумму оценок по данным оценкам и весам. Можете посчитать свою оценку за курс :) В нашем случае вес экзамена равен 0.3, вес домашек - 0.4, вес контрольной - 0.2, вес самостоятельных - 0.1. Например, если за экзамен у вас 7, за домашки 10, за контрольную 8, а за самостоятельные 6, то вы получите отличную оценку 8!"
      ]
    },
    {
      "cell_type": "code",
      "execution_count": 56,
      "metadata": {
        "pycharm": {
          "name": "#%%\n"
        },
        "id": "FTgUBKAJgpcA"
      },
      "outputs": [],
      "source": [
        "def result_mark(weights: np.array, marks: np.array) -> int:\n",
        "    # (your)My code here\n",
        "    return np.rint(np.multiply(weights, marks).sum()).astype(np.int64)"
      ]
    },
    {
      "cell_type": "code",
      "execution_count": 57,
      "metadata": {
        "pycharm": {
          "name": "#%%\n"
        },
        "id": "Ih3VvoTRgpcA"
      },
      "outputs": [],
      "source": [
        "weights = np.array([0.3, 0.4, 0.2, 0.1])\n",
        "marks = np.array([7, 10, 8, 6])\n",
        "\n",
        "assert result_mark(weights, marks) == 8"
      ]
    },
    {
      "cell_type": "code",
      "execution_count": 58,
      "metadata": {
        "pycharm": {
          "name": "#%%\n"
        },
        "id": "KOcvkQQCgpcB"
      },
      "outputs": [],
      "source": [
        "weights = np.array([0.3, 0.4, 0.2, 0.1])\n",
        "marks = np.array([7, 0, 8, 6])\n",
        "\n",
        "assert result_mark(weights, marks) == 4"
      ]
    },
    {
      "cell_type": "markdown",
      "metadata": {
        "id": "Bs3hspS9gpcB"
      },
      "source": [
        "### Задание 2"
      ]
    },
    {
      "cell_type": "markdown",
      "metadata": {
        "id": "HbjkDcTIgpcC"
      },
      "source": [
        "Напишите функцию, меняющую каждое третье (начиная с 0) значение массива целых чисел на заданное число. Например, если на вход поступает массив `array([3, 5, 1, 0, -3, 22, 213436])` и число `-111`, то на выходе должен получиться массив `array([-111, 5, 1, -111, -3, 22, -111])`."
      ]
    },
    {
      "cell_type": "code",
      "execution_count": 59,
      "metadata": {
        "pycharm": {
          "name": "#%%\n"
        },
        "id": "dfqTjE5dgpcC"
      },
      "outputs": [],
      "source": [
        "def change_array(array: np.array, number: int) -> np.array:\n",
        "    # (your)My code here\n",
        "    result = array\n",
        "    result[::3] = number\n",
        "    return result"
      ]
    },
    {
      "cell_type": "code",
      "execution_count": 60,
      "metadata": {
        "pycharm": {
          "name": "#%%\n"
        },
        "id": "iORsvXa0gpcC"
      },
      "outputs": [],
      "source": [
        "array = np.array([3, 5, 1, 0, -3, 22, 213436])\n",
        "number = -111\n",
        "\n",
        "assert np.allclose(change_array(array, number), np.array([-111, 5, 1, -111, -3, 22, -111]))"
      ]
    },
    {
      "cell_type": "code",
      "execution_count": 61,
      "metadata": {
        "pycharm": {
          "name": "#%%\n"
        },
        "id": "F15PYx6DgpcC"
      },
      "outputs": [],
      "source": [
        "array = np.array([3, 14, 15, 92, 6])\n",
        "number = 8\n",
        "\n",
        "assert np.allclose(change_array(array, number), np.array([8, 14, 15, 8, 6]))"
      ]
    },
    {
      "cell_type": "markdown",
      "metadata": {
        "id": "N3_UmxwrgpcD"
      },
      "source": [
        "### Задание 3"
      ]
    },
    {
      "cell_type": "markdown",
      "metadata": {
        "id": "DpZ22zP4gpcD"
      },
      "source": [
        "Напишите функцию, выдающую индексы «близких» элементов заданных массивов, а именно тех пар элементов, чей модуль разницы не превосходит заданного значения. Например, если на вход поступают массив `array([1.5, 0.5, 2, -4.1, -3, 6, -1])`, массив `array([1.2, 0.5, 1, -4, 3, 0, -1.2])` и число `0.5`, то на выходе должен получиться массив `array([0, 1, 3, 6])` (**важно: не `tuple`, а одномерный массив типа `numpy.ndarray` (то есть `.ndim` от него равно 1)!**)."
      ]
    },
    {
      "cell_type": "code",
      "execution_count": 62,
      "metadata": {
        "pycharm": {
          "name": "#%%\n"
        },
        "id": "KjvHeVLAgpcD"
      },
      "outputs": [],
      "source": [
        "def find_close(array1: np.array, array2: np.array,\n",
        "               precision: float) -> np.array:\n",
        "    # (your)My code here\n",
        "    return np.where(abs(np.subtract(array1, array2)) < precision)[0]"
      ]
    },
    {
      "cell_type": "code",
      "execution_count": 63,
      "metadata": {
        "pycharm": {
          "name": "#%%\n"
        },
        "id": "1BiRVNROgpcD"
      },
      "outputs": [],
      "source": [
        "array1 = np.array([1.5, 0.5, 2, -4.1, -3, 6, -1])\n",
        "array2 = np.array([1.2, 0.5, 1, -4.0,  3, 0, -1.2])\n",
        "precision = 0.5\n",
        "res = find_close(array1, array2, precision)\n",
        "\n",
        "assert res.ndim == 1\n",
        "assert np.allclose(res, np.array([0, 1, 3, 6]))"
      ]
    },
    {
      "cell_type": "code",
      "execution_count": 64,
      "metadata": {
        "pycharm": {
          "name": "#%%\n"
        },
        "id": "Es95dVzlgpcD"
      },
      "outputs": [],
      "source": [
        "array1 = np.array([3.1415, 2.7182, 1.6180, 6.6261])\n",
        "array2 = np.array([6.6730, 1.3807, -1,     6.0222])\n",
        "precision = 1.7\n",
        "res = find_close(array1, array2, precision)\n",
        "\n",
        "assert res.ndim == 1\n",
        "assert np.allclose(res, np.array([1, 3]))"
      ]
    },
    {
      "cell_type": "markdown",
      "metadata": {
        "id": "t7a3JYn3gpcE"
      },
      "source": [
        "### Задание 4"
      ]
    },
    {
      "cell_type": "markdown",
      "metadata": {
        "id": "8I4vR2gwgpcE"
      },
      "source": [
        "Напишите функцию, которая составляет блочную матрицу из четырех блоков, где каждый блок - это заданная матрица. Например, если на вход поступает матрица\n",
        "$$\n",
        "\\begin{pmatrix}\n",
        "0 & 1 & 2\\\\\n",
        "3 & 4 & 5\\\\\n",
        "\\end{pmatrix},\n",
        "$$\n",
        "то ответом будет матрица\n",
        "$$\n",
        "\\begin{pmatrix}\n",
        "0 & 1 & 2 & 0 & 1 & 2\\\\\n",
        "3 & 4 & 5 & 3 & 4 & 5\\\\\n",
        "0 & 1 & 2 & 0 & 1 & 2\\\\\n",
        "3 & 4 & 5 & 3 & 4 & 5\\\\\n",
        "\\end{pmatrix}\n",
        "$$"
      ]
    },
    {
      "cell_type": "code",
      "execution_count": 65,
      "metadata": {
        "pycharm": {
          "name": "#%%\n"
        },
        "id": "IZRZ3_cygpcE"
      },
      "outputs": [],
      "source": [
        "def block_matrix(block: np.array) -> np.array:\n",
        "    # (your)My code here\n",
        "    tmp = np.concatenate((block, block), axis=1)\n",
        "    return np.concatenate((tmp, tmp), axis=0)"
      ]
    },
    {
      "cell_type": "code",
      "source": [
        "block = np.array([[0, 1, 2], [3, 4, 5]])\n",
        "\n",
        "assert np.allclose(\n",
        "    block_matrix(block),\n",
        "    np.array([[0, 1, 2, 0, 1, 2],\n",
        "              [3, 4, 5, 3, 4, 5],\n",
        "              [0, 1, 2, 0, 1, 2],\n",
        "              [3, 4, 5, 3, 4, 5]])\n",
        ")"
      ],
      "metadata": {
        "id": "umsi-pLIcRyD"
      },
      "execution_count": 66,
      "outputs": []
    },
    {
      "cell_type": "code",
      "execution_count": 67,
      "metadata": {
        "pycharm": {
          "name": "#%%\n"
        },
        "id": "XS8sdpAkgpcE"
      },
      "outputs": [],
      "source": [
        "block = np.array([[1, 3, 3], [7, 0, 0]])\n",
        "\n",
        "assert np.allclose(\n",
        "    block_matrix(block),\n",
        "    np.array([[1, 3, 3, 1, 3, 3],\n",
        "              [7, 0, 0, 7, 0, 0],\n",
        "              [1, 3, 3, 1, 3, 3],\n",
        "              [7, 0, 0, 7, 0, 0]])\n",
        ")"
      ]
    },
    {
      "cell_type": "markdown",
      "metadata": {
        "id": "qUZsYMh8gpcF"
      },
      "source": [
        "### Задание 5"
      ]
    },
    {
      "cell_type": "markdown",
      "metadata": {
        "id": "BiJTo2hbgpcF"
      },
      "source": [
        "Напишите функцию, вычисляющую произведение всех ненулевых диагональных элементов на диагонали данной квадратной матрицы. Например, если на вход поступает матрица\n",
        "$$\n",
        "\\begin{pmatrix}\n",
        "0 & 1 & 2\\\\\n",
        "3 & 4 & 5\\\\\n",
        "6 & 7 & 8\\\\\n",
        "\\end{pmatrix},\n",
        "$$\n",
        "то ответом будет 32.\n",
        "\n",
        "Элементы матрицы считать целочисленными."
      ]
    },
    {
      "cell_type": "code",
      "execution_count": 68,
      "metadata": {
        "pycharm": {
          "name": "#%%\n"
        },
        "id": "Lf7TUgkPgpcF"
      },
      "outputs": [],
      "source": [
        "def diag_prod(matrix: np.array) -> int:\n",
        "    # (your)My code here\n",
        "    tmp = matrix.diagonal()\n",
        "    return np.prod(tmp[tmp != 0])"
      ]
    },
    {
      "cell_type": "code",
      "source": [
        "matrix = np.array([[0, 1, 2],\n",
        "                   [3, 4, 5],\n",
        "                   [6, 7, 8]])\n",
        "\n",
        "assert diag_prod(matrix) == 32"
      ],
      "metadata": {
        "id": "EQNhNlb5clOm"
      },
      "execution_count": 69,
      "outputs": []
    },
    {
      "cell_type": "code",
      "execution_count": 70,
      "metadata": {
        "pycharm": {
          "name": "#%%\n"
        },
        "id": "_Zrn-tJXgpcF"
      },
      "outputs": [],
      "source": [
        "matrix = np.array([[0, 1, 2, 3],\n",
        "                   [4, 5, 6, 7],\n",
        "                   [8, 9, 10, 11],\n",
        "                   [12, 13, 14, 15]])\n",
        "\n",
        "assert diag_prod(matrix) == 750"
      ]
    },
    {
      "cell_type": "markdown",
      "metadata": {
        "id": "wMhjucrLgpcF"
      },
      "source": [
        "### Задание 6"
      ]
    },
    {
      "cell_type": "markdown",
      "metadata": {
        "id": "nEH92HwxgpcF"
      },
      "source": [
        "Для улучшения качества работы некоторых алгоритмов машинного обучения может быть полезно использовать [нормализацию данных](https://vk.cc/8xmfQk), чтобы привести признаки в выборке к одному масштабу — а именно, из каждого столбца вычесть среднее его значений и поделить на их стандартное отклонение. Напишите функцию, нормализующую входящую матрицу (по столбцам). Например, если на вход подается матрица \n",
        "$$\n",
        "\\begin{pmatrix}\n",
        "1 & 4 & 4200\\\\\n",
        "0 & 10 & 5000\\\\\n",
        "1 & 2 & 1000\\\\\n",
        "\\end{pmatrix},\n",
        "$$\n",
        "то результатом с точностью до сотых будет матрица\n",
        "$$\n",
        "\\begin{pmatrix}\n",
        "0.71 & -0.39 & 0.46\\\\\n",
        "-1.41 & 1.37 & 0.93\\\\\n",
        "0.71 & -0.98 & -1.39\\\\\n",
        "\\end{pmatrix}\n",
        "$$\n",
        "\n",
        "Учтите, что в вашем матрице не должно получаться никаких nan. Подумайте, в каком случае они могут возникнуть и как обойти эту проблему.\n",
        "\n",
        "_Подсказка. Казалось бы, при чем тут деление на ноль._"
      ]
    },
    {
      "cell_type": "code",
      "execution_count": 71,
      "metadata": {
        "pycharm": {
          "name": "#%%\n"
        },
        "id": "ObrKZL02gpcF"
      },
      "outputs": [],
      "source": [
        "def normalize(matrix: np.array) -> np.array:\n",
        "    # (your)My code here\n",
        "    return np.divide(np.subtract(matrix, np.mean(matrix, axis=0)), np.std(matrix, axis=0), out=np.zeros(matrix.shape), where=np.std(matrix, axis=0) != 0)"
      ]
    },
    {
      "cell_type": "code",
      "execution_count": 72,
      "metadata": {
        "pycharm": {
          "name": "#%%\n"
        },
        "id": "7tjaEYV_gpcF"
      },
      "outputs": [],
      "source": [
        "matrix = np.array([[1, 4, 4200], [0, 10, 5000], [1, 2, 1000]])\n",
        "\n",
        "assert np.allclose(\n",
        "    normalize(matrix),\n",
        "    np.array([[ 0.7071, -0.39223,  0.46291],\n",
        "              [-1.4142,  1.37281,  0.92582],\n",
        "              [ 0.7071, -0.98058, -1.38873]])\n",
        ")"
      ]
    },
    {
      "cell_type": "code",
      "execution_count": 73,
      "metadata": {
        "pycharm": {
          "name": "#%%\n"
        },
        "id": "r0vTmsnsgpcF"
      },
      "outputs": [],
      "source": [
        "matrix = np.array([[-7, 2, 42], [2, 10, 50], [5, 4, 10]])\n",
        "\n",
        "assert np.allclose(\n",
        "    normalize(matrix),\n",
        "    np.array([[-1.37281, -0.98058,  0.46291],\n",
        "              [ 0.39223,  1.37281,  0.92582],\n",
        "              [ 0.98058, -0.39223, -1.38873]])\n",
        ")"
      ]
    },
    {
      "cell_type": "markdown",
      "metadata": {
        "id": "eGANy3Y3gpcG"
      },
      "source": [
        "### Задание 7"
      ]
    },
    {
      "cell_type": "markdown",
      "metadata": {
        "id": "x5A4EncJgpcG"
      },
      "source": [
        "Написать функцию, возвращающую максимальный элемент в векторе x среди элементов, перед которыми стоит нулевой. <br>\n",
        "Для x = np.array([6, 2, 0, 3, 0, 0, 5, 7, 0]) ответом является 5."
      ]
    },
    {
      "cell_type": "code",
      "execution_count": 74,
      "metadata": {
        "pycharm": {
          "name": "#%%\n"
        },
        "id": "bQoAzCqlgpcG"
      },
      "outputs": [],
      "source": [
        "def prevZeroMax(matrix: np.array) -> int:\n",
        "    # (your)My code here\n",
        "    tmp = np.where(matrix == 0)[0]\n",
        "    tmp = (tmp + 1)[(tmp + 1) < matrix.size]\n",
        "    return matrix[tmp].max()"
      ]
    },
    {
      "cell_type": "code",
      "execution_count": 75,
      "metadata": {
        "pycharm": {
          "name": "#%%\n"
        },
        "id": "5i-xVqT_gpcG"
      },
      "outputs": [],
      "source": [
        "coefs = np.array([6, 2, 0, 3, 0, 0, 5, 7, 0])\n",
        "\n",
        "assert  prevZeroMax(coefs) == 5"
      ]
    },
    {
      "cell_type": "code",
      "execution_count": 76,
      "metadata": {
        "pycharm": {
          "name": "#%%\n"
        },
        "id": "cYLbPOk2gpcG"
      },
      "outputs": [],
      "source": [
        "coefs = np.array([1, 0, 1, 0, 4, 2, 0])\n",
        "\n",
        "assert prevZeroMax(coefs) == 4\n",
        "   "
      ]
    },
    {
      "cell_type": "markdown",
      "metadata": {
        "id": "iV68y0zygpcG"
      },
      "source": [
        "### Задание 8"
      ]
    },
    {
      "cell_type": "markdown",
      "metadata": {
        "id": "Wh9qE7IagpcG"
      },
      "source": [
        "Напишите функцию, делающую данную [треугольную матрицу](https://ru.wikipedia.org/wiki/%D0%A2%D1%80%D0%B5%D1%83%D0%B3%D0%BE%D0%BB%D1%8C%D0%BD%D0%B0%D1%8F_%D0%BC%D0%B0%D1%82%D1%80%D0%B8%D1%86%D0%B0) симметричной. Например, если на вход поступает матрица\n",
        "$$\n",
        "\\begin{pmatrix}\n",
        "1 & 2 & 3 & 4\\\\\n",
        "0 & 5 & 6 & 7\\\\\n",
        "0 & 0 & 8 & 9\\\\\n",
        "0 & 0 & 0 & 10\\\\\n",
        "\\end{pmatrix},\n",
        "$$\n",
        "то на выходе должна быть матрица\n",
        "$$\n",
        "\\begin{pmatrix}\n",
        "1 & 2 & 3 & 4\\\\\n",
        "2 & 5 & 6 & 7\\\\\n",
        "3 & 6 & 8 & 9\\\\\n",
        "4 & 7 & 9 & 10\\\\\n",
        "\\end{pmatrix}.\n",
        "$$"
      ]
    },
    {
      "cell_type": "code",
      "execution_count": 77,
      "metadata": {
        "pycharm": {
          "name": "#%%\n"
        },
        "id": "kHZAEocMgpcG"
      },
      "outputs": [],
      "source": [
        "def make_symmetric(matrix: np.array) -> np.array:\n",
        "    # (your)My code here\n",
        "    return matrix + np.transpose(matrix) - np.multiply(np.identity(matrix.shape[0]), matrix)"
      ]
    },
    {
      "cell_type": "code",
      "execution_count": 78,
      "metadata": {
        "pycharm": {
          "name": "#%%\n"
        },
        "id": "dR1rFre1gpcG"
      },
      "outputs": [],
      "source": [
        "matrix = np.array([[1, 2, 3, 4], [0, 5, 6, 7], [0, 0, 8, 9], [0, 0, 0, 10]])\n",
        "\n",
        "assert np.allclose(\n",
        "    make_symmetric(matrix),\n",
        "    np.array([[ 1,  2,  3,  4],\n",
        "              [ 2,  5,  6,  7],\n",
        "              [ 3,  6,  8,  9],\n",
        "              [ 4,  7,  9, 10]])\n",
        ")"
      ]
    },
    {
      "cell_type": "code",
      "execution_count": 79,
      "metadata": {
        "pycharm": {
          "name": "#%%\n"
        },
        "id": "ZvD82sGOgpcH"
      },
      "outputs": [],
      "source": [
        "matrix = np.array([[10, 21, 32, 49], [0, 53, 62, 78], [0, 0, 82, 92], [0, 0, 0, 10]])\n",
        "\n",
        "assert np.allclose(\n",
        "    make_symmetric(matrix),\n",
        "    np.array([[10, 21, 32, 49],\n",
        "              [21, 53, 62, 78],\n",
        "              [32, 62, 82, 92],\n",
        "              [49, 78, 92, 10]])\n",
        ")"
      ]
    },
    {
      "cell_type": "markdown",
      "metadata": {
        "id": "m2riYf4OgpcH"
      },
      "source": [
        "### Задание 9"
      ]
    },
    {
      "cell_type": "markdown",
      "metadata": {
        "id": "AgQL223HgpcH"
      },
      "source": [
        "Напишите функцию, создающую прямоугольную матрицу из m одинаковых строк, заполненных последовательными натуральными числами от a до b включительно в возрастающем порядке. Например, если m = 5, a = 3, b = 10, то на выходе будет матрица\n",
        "$$\n",
        "\\begin{pmatrix}\n",
        "3 & 4 & 5 & 6 & 7 & 8 & 9 & 10\\\\\n",
        "3 & 4 & 5 & 6 & 7 & 8 & 9 & 10\\\\\n",
        "3 & 4 & 5 & 6 & 7 & 8 & 9 & 10\\\\\n",
        "3 & 4 & 5 & 6 & 7 & 8 & 9 & 10\\\\\n",
        "3 & 4 & 5 & 6 & 7 & 8 & 9 & 10\\\\\n",
        "\\end{pmatrix}\n",
        "$$"
      ]
    },
    {
      "cell_type": "code",
      "execution_count": 80,
      "metadata": {
        "pycharm": {
          "name": "#%%\n"
        },
        "id": "6NmMggC1gpcH"
      },
      "outputs": [],
      "source": [
        "def construct_matrix(m: int, a: int, b: int) -> np.array:\n",
        "    # (your)My code here\n",
        "    return np.repeat(np.arange(a, b+1).reshape(-1, b-a+1), m, axis=0)"
      ]
    },
    {
      "cell_type": "code",
      "execution_count": 81,
      "metadata": {
        "pycharm": {
          "name": "#%%\n"
        },
        "id": "xyd8WNSIgpcH"
      },
      "outputs": [],
      "source": [
        "m = 5\n",
        "a = 3\n",
        "b = 10\n",
        "\n",
        "assert np.allclose(\n",
        "    construct_matrix(m, a, b),\n",
        "    np.array([[ 3,  4,  5,  6,  7,  8,  9, 10],\n",
        "              [ 3,  4,  5,  6,  7,  8,  9, 10],\n",
        "              [ 3,  4,  5,  6,  7,  8,  9, 10],\n",
        "              [ 3,  4,  5,  6,  7,  8,  9, 10],\n",
        "              [ 3,  4,  5,  6,  7,  8,  9, 10]])\n",
        ")"
      ]
    },
    {
      "cell_type": "code",
      "execution_count": 82,
      "metadata": {
        "pycharm": {
          "name": "#%%\n"
        },
        "id": "7SUXfpLVgpcH"
      },
      "outputs": [],
      "source": [
        "m = 3\n",
        "a = 2\n",
        "b = 6\n",
        "\n",
        "assert np.allclose(\n",
        "    construct_matrix(m, a, b),\n",
        "    np.array([[2, 3, 4, 5, 6],\n",
        "              [2, 3, 4, 5, 6],\n",
        "              [2, 3, 4, 5, 6]])\n",
        ")"
      ]
    },
    {
      "cell_type": "markdown",
      "metadata": {
        "id": "H_0XHK-GgpcH"
      },
      "source": [
        "### Задание 10"
      ]
    },
    {
      "cell_type": "markdown",
      "metadata": {
        "id": "EJ4AwDjugpcH"
      },
      "source": [
        "Напишите функцию, вычисляющую [косинусную близость](https://en.wikipedia.org/wiki/Cosine_similarity) двух векторов. Например, если на вход поступают вектора `array([-2, 1, 0, -5, 4, 3, -3])` и `array([0, 2, -2, 10, 6, 0, 0])`, ответом будет -0.25."
      ]
    },
    {
      "cell_type": "code",
      "execution_count": 83,
      "metadata": {
        "pycharm": {
          "name": "#%%\n"
        },
        "id": "9YMXE1FMgpcH"
      },
      "outputs": [],
      "source": [
        "def cosine_similarity(vec1: np.array, vec2: np.array) -> float:\n",
        "    # (your)My code here\n",
        "    return np.dot(vec1, vec2) / (np.linalg.norm(vec1) * np.linalg.norm(vec2))"
      ]
    },
    {
      "cell_type": "code",
      "execution_count": 84,
      "metadata": {
        "pycharm": {
          "name": "#%%\n"
        },
        "id": "6GTq_d2wgpcH"
      },
      "outputs": [],
      "source": [
        "vec1 = np.array([-2, 1,  0, -5, 4, 3, -3])\n",
        "vec2 = np.array([ 0, 2, -2, 10, 6, 0,  0])\n",
        "\n",
        "assert np.allclose(cosine_similarity(vec1, vec2), -0.25)"
      ]
    },
    {
      "cell_type": "code",
      "execution_count": 85,
      "metadata": {
        "pycharm": {
          "name": "#%%\n"
        },
        "id": "X5C3FW1kgpcI"
      },
      "outputs": [],
      "source": [
        "vec1 = np.array([-4, 2,  9, -8, 9, 0, -2])\n",
        "vec2 = np.array([ 3, 2, -4, -1, 3, 2,  2])\n",
        "\n",
        "assert np.allclose(cosine_similarity(vec1, vec2), -0.119929)"
      ]
    }
  ],
  "metadata": {
    "kernelspec": {
      "display_name": "Python 3 (ipykernel)",
      "language": "python",
      "name": "python3"
    },
    "language_info": {
      "codemirror_mode": {
        "name": "ipython",
        "version": 3
      },
      "file_extension": ".py",
      "mimetype": "text/x-python",
      "name": "python",
      "nbconvert_exporter": "python",
      "pygments_lexer": "ipython3",
      "version": "3.7.9"
    },
    "colab": {
      "provenance": []
    }
  },
  "nbformat": 4,
  "nbformat_minor": 0
}